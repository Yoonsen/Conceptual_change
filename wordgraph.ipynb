{
 "cells": [
  {
   "cell_type": "code",
   "execution_count": 20,
   "id": "5cd02d9d-1d62-40db-84a1-2fce6d4943b4",
   "metadata": {},
   "outputs": [],
   "source": [
    "news = \"/home/yoonsen/word_graphs/book_news_word_pairs.db\""
   ]
  },
  {
   "cell_type": "code",
   "execution_count": 19,
   "id": "7c6fbf12-e04a-4cf0-9984-ead7e28eed50",
   "metadata": {},
   "outputs": [],
   "source": [
    "books = \"/home/yoonsen/word_graphs/book_word_pairs.db\""
   ]
  },
  {
   "cell_type": "code",
   "execution_count": 9,
   "id": "b63e7d97-456d-4aba-b008-ac7eef501e88",
   "metadata": {},
   "outputs": [],
   "source": [
    "import sqlite3\n",
    "import pandas as pd"
   ]
  },
  {
   "cell_type": "code",
   "execution_count": 7,
   "id": "d3938979-c66e-4c25-b771-d31c78bd086c",
   "metadata": {},
   "outputs": [],
   "source": [
    "def query(db, sql, params=()):\n",
    "    with sqlite3.connect(db) as con:\n",
    "        cur = con.cursor()\n",
    "        res = cur.execute(sql, params).fetchall()\n",
    "    return res\n",
    "\n",
    "def pdquery(db, sql, params=()):\n",
    "    with sqlite3.connect(db) as con:\n",
    "        res = pd.read_sql(sql, con, params = params)\n",
    "    return res"
   ]
  },
  {
   "cell_type": "code",
   "execution_count": 23,
   "id": "0767397e-efee-47ee-9315-ddd1760d9a53",
   "metadata": {},
   "outputs": [
    {
     "data": {
      "text/html": [
       "<style type=\"text/css\">\n",
       "</style>\n",
       "<table id=\"T_26e83_\">\n",
       "  <thead>\n",
       "    <tr>\n",
       "      <th class=\"blank level0\" >&nbsp;</th>\n",
       "      <th class=\"col_heading level0 col0\" >type</th>\n",
       "      <th class=\"col_heading level0 col1\" >name</th>\n",
       "      <th class=\"col_heading level0 col2\" >tbl_name</th>\n",
       "      <th class=\"col_heading level0 col3\" >rootpage</th>\n",
       "      <th class=\"col_heading level0 col4\" >sql</th>\n",
       "    </tr>\n",
       "  </thead>\n",
       "  <tbody>\n",
       "    <tr>\n",
       "      <th id=\"T_26e83_level0_row0\" class=\"row_heading level0 row0\" >0</th>\n",
       "      <td id=\"T_26e83_row0_col0\" class=\"data row0 col0\" >table</td>\n",
       "      <td id=\"T_26e83_row0_col1\" class=\"data row0 col1\" >ngram</td>\n",
       "      <td id=\"T_26e83_row0_col2\" class=\"data row0 col2\" >ngram</td>\n",
       "      <td id=\"T_26e83_row0_col3\" class=\"data row0 col3\" >2</td>\n",
       "      <td id=\"T_26e83_row0_col4\" class=\"data row0 col4\" >CREATE TABLE \"ngram\" (\n",
       "\"index\" INTEGER,\n",
       "  \"first\" TEXT,\n",
       "  \"second\" TEXT,\n",
       "  \"freq\" INTEGER\n",
       ")</td>\n",
       "    </tr>\n",
       "    <tr>\n",
       "      <th id=\"T_26e83_level0_row1\" class=\"row_heading level0 row1\" >1</th>\n",
       "      <td id=\"T_26e83_row1_col0\" class=\"data row1 col0\" >index</td>\n",
       "      <td id=\"T_26e83_row1_col1\" class=\"data row1 col1\" >ix_ngram_index</td>\n",
       "      <td id=\"T_26e83_row1_col2\" class=\"data row1 col2\" >ngram</td>\n",
       "      <td id=\"T_26e83_row1_col3\" class=\"data row1 col3\" >3</td>\n",
       "      <td id=\"T_26e83_row1_col4\" class=\"data row1 col4\" >CREATE INDEX \"ix_ngram_index\"ON \"ngram\" (\"index\")</td>\n",
       "    </tr>\n",
       "    <tr>\n",
       "      <th id=\"T_26e83_level0_row2\" class=\"row_heading level0 row2\" >2</th>\n",
       "      <td id=\"T_26e83_row2_col0\" class=\"data row2 col0\" >index</td>\n",
       "      <td id=\"T_26e83_row2_col1\" class=\"data row2 col1\" >_ft_</td>\n",
       "      <td id=\"T_26e83_row2_col2\" class=\"data row2 col2\" >ngram</td>\n",
       "      <td id=\"T_26e83_row2_col3\" class=\"data row2 col3\" >160987</td>\n",
       "      <td id=\"T_26e83_row2_col4\" class=\"data row2 col4\" >CREATE INDEX '_ft_' on ngram (first, second)</td>\n",
       "    </tr>\n",
       "    <tr>\n",
       "      <th id=\"T_26e83_level0_row3\" class=\"row_heading level0 row3\" >3</th>\n",
       "      <td id=\"T_26e83_row3_col0\" class=\"data row3 col0\" >index</td>\n",
       "      <td id=\"T_26e83_row3_col1\" class=\"data row3 col1\" >_tf_</td>\n",
       "      <td id=\"T_26e83_row3_col2\" class=\"data row3 col2\" >ngram</td>\n",
       "      <td id=\"T_26e83_row3_col3\" class=\"data row3 col3\" >248266</td>\n",
       "      <td id=\"T_26e83_row3_col4\" class=\"data row3 col4\" >CREATE INDEX '_tf_' on ngram (second, first)</td>\n",
       "    </tr>\n",
       "    <tr>\n",
       "      <th id=\"T_26e83_level0_row4\" class=\"row_heading level0 row4\" >4</th>\n",
       "      <td id=\"T_26e83_row4_col0\" class=\"data row4 col0\" >table</td>\n",
       "      <td id=\"T_26e83_row4_col1\" class=\"data row4 col1\" >firstfreq</td>\n",
       "      <td id=\"T_26e83_row4_col2\" class=\"data row4 col2\" >firstfreq</td>\n",
       "      <td id=\"T_26e83_row4_col3\" class=\"data row4 col3\" >335546</td>\n",
       "      <td id=\"T_26e83_row4_col4\" class=\"data row4 col4\" >CREATE TABLE firstfreq (first varchar, freq int)</td>\n",
       "    </tr>\n",
       "    <tr>\n",
       "      <th id=\"T_26e83_level0_row5\" class=\"row_heading level0 row5\" >5</th>\n",
       "      <td id=\"T_26e83_row5_col0\" class=\"data row5 col0\" >table</td>\n",
       "      <td id=\"T_26e83_row5_col1\" class=\"data row5 col1\" >secondfreq</td>\n",
       "      <td id=\"T_26e83_row5_col2\" class=\"data row5 col2\" >secondfreq</td>\n",
       "      <td id=\"T_26e83_row5_col3\" class=\"data row5 col3\" >335547</td>\n",
       "      <td id=\"T_26e83_row5_col4\" class=\"data row5 col4\" >CREATE TABLE secondfreq (second varchar, freq int)</td>\n",
       "    </tr>\n",
       "    <tr>\n",
       "      <th id=\"T_26e83_level0_row6\" class=\"row_heading level0 row6\" >6</th>\n",
       "      <td id=\"T_26e83_row6_col0\" class=\"data row6 col0\" >index</td>\n",
       "      <td id=\"T_26e83_row6_col1\" class=\"data row6 col1\" >_ff_</td>\n",
       "      <td id=\"T_26e83_row6_col2\" class=\"data row6 col2\" >firstfreq</td>\n",
       "      <td id=\"T_26e83_row6_col3\" class=\"data row6 col3\" >346283</td>\n",
       "      <td id=\"T_26e83_row6_col4\" class=\"data row6 col4\" >CREATE INDEX _ff_ on firstfreq (first, freq)</td>\n",
       "    </tr>\n",
       "    <tr>\n",
       "      <th id=\"T_26e83_level0_row7\" class=\"row_heading level0 row7\" >7</th>\n",
       "      <td id=\"T_26e83_row7_col0\" class=\"data row7 col0\" >index</td>\n",
       "      <td id=\"T_26e83_row7_col1\" class=\"data row7 col1\" >_ftf_</td>\n",
       "      <td id=\"T_26e83_row7_col2\" class=\"data row7 col2\" >secondfreq</td>\n",
       "      <td id=\"T_26e83_row7_col3\" class=\"data row7 col3\" >351423</td>\n",
       "      <td id=\"T_26e83_row7_col4\" class=\"data row7 col4\" >CREATE INDEX _ftf_ on secondfreq (second, freq)</td>\n",
       "    </tr>\n",
       "    <tr>\n",
       "      <th id=\"T_26e83_level0_row8\" class=\"row_heading level0 row8\" >8</th>\n",
       "      <td id=\"T_26e83_row8_col0\" class=\"data row8 col0\" >table</td>\n",
       "      <td id=\"T_26e83_row8_col1\" class=\"data row8 col1\" >word_graph</td>\n",
       "      <td id=\"T_26e83_row8_col2\" class=\"data row8 col2\" >word_graph</td>\n",
       "      <td id=\"T_26e83_row8_col3\" class=\"data row8 col3\" >357518</td>\n",
       "      <td id=\"T_26e83_row8_col4\" class=\"data row8 col4\" >CREATE TABLE word_graph (first varchar, second varchar, freq int, pmi float)</td>\n",
       "    </tr>\n",
       "    <tr>\n",
       "      <th id=\"T_26e83_level0_row9\" class=\"row_heading level0 row9\" >9</th>\n",
       "      <td id=\"T_26e83_row9_col0\" class=\"data row9 col0\" >index</td>\n",
       "      <td id=\"T_26e83_row9_col1\" class=\"data row9 col1\" >_gftp_</td>\n",
       "      <td id=\"T_26e83_row9_col2\" class=\"data row9 col2\" >word_graph</td>\n",
       "      <td id=\"T_26e83_row9_col3\" class=\"data row9 col3\" >482620</td>\n",
       "      <td id=\"T_26e83_row9_col4\" class=\"data row9 col4\" >CREATE INDEX _gftp_ on word_graph (first, pmi)</td>\n",
       "    </tr>\n",
       "    <tr>\n",
       "      <th id=\"T_26e83_level0_row10\" class=\"row_heading level0 row10\" >10</th>\n",
       "      <td id=\"T_26e83_row10_col0\" class=\"data row10 col0\" >index</td>\n",
       "      <td id=\"T_26e83_row10_col1\" class=\"data row10 col1\" >_gtfp_</td>\n",
       "      <td id=\"T_26e83_row10_col2\" class=\"data row10 col2\" >word_graph</td>\n",
       "      <td id=\"T_26e83_row10_col3\" class=\"data row10 col3\" >573943</td>\n",
       "      <td id=\"T_26e83_row10_col4\" class=\"data row10 col4\" >CREATE INDEX _gtfp_ on word_graph (second, pmi)</td>\n",
       "    </tr>\n",
       "  </tbody>\n",
       "</table>\n"
      ],
      "text/plain": [
       "<pandas.io.formats.style.Styler at 0x7f87cadd4c10>"
      ]
     },
     "execution_count": 23,
     "metadata": {},
     "output_type": "execute_result"
    }
   ],
   "source": [
    "pdquery(news, \"select * from sqlite_master\").style"
   ]
  },
  {
   "cell_type": "code",
   "execution_count": null,
   "id": "c16e63ad-23a2-41f2-a754-9f7edb322cc7",
   "metadata": {},
   "outputs": [],
   "source": []
  }
 ],
 "metadata": {
  "kernelspec": {
   "display_name": "Python 3 (ipykernel)",
   "language": "python",
   "name": "python3"
  },
  "language_info": {
   "codemirror_mode": {
    "name": "ipython",
    "version": 3
   },
   "file_extension": ".py",
   "mimetype": "text/x-python",
   "name": "python",
   "nbconvert_exporter": "python",
   "pygments_lexer": "ipython3",
   "version": "3.9.7"
  }
 },
 "nbformat": 4,
 "nbformat_minor": 5
}
